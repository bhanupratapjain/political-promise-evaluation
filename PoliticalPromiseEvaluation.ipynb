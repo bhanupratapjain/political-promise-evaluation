{
 "cells": [
  {
   "cell_type": "code",
   "execution_count": 79,
   "metadata": {
    "scrolled": true,
    "slideshow": {
     "slide_type": "skip"
    }
   },
   "outputs": [],
   "source": [
    "import requests\n",
    "from bs4 import BeautifulSoup\n",
    "\n",
    "\n",
    "class GoogleMiner:\n",
    "    def get_search_summary(self, search_query, num=10):\n",
    "        search_query = search_query.replace(\" \", \"+\")\n",
    "        query = \"https://www.google.com/search?q=\" + search_query + \"&num=\" + str(num)\n",
    "        r = requests.get(query)\n",
    "        html_doc = r.text\n",
    "        soup = BeautifulSoup(html_doc, 'html.parser')\n",
    "        return soup.find_all(attrs={'class': 'st'})"
   ]
  },
  {
   "cell_type": "code",
   "execution_count": 80,
   "metadata": {
    "scrolled": true,
    "slideshow": {
     "slide_type": "skip"
    }
   },
   "outputs": [],
   "source": [
    "import json\n",
    "\n",
    "import newspaper\n",
    "import requests\n",
    "from newspaper import Article\n",
    "from nytimesarticle import articleAPI\n",
    "\n",
    "\n",
    "class NewsMiner:\n",
    "    def __init__(self):\n",
    "        self.client = newspaper\n",
    "        self.sources = {}\n",
    "        self.article_api = articleAPI('60425d8974b1484692c368f8c52e4c1f')\n",
    "        self.nyi_api_key = \"60425d8974b1484692c368f8c52e4c1f\"\n",
    "\n",
    "    def setup(self):\n",
    "        self.get_articles()\n",
    "        # self.add_source()\n",
    "\n",
    "    def add_source(self):\n",
    "        self.sources['cnn'] = self.client.build('http://cnn.com', memoize_articles=False)\n",
    "\n",
    "    def get_articles(self, search_term, begin_date, end_date):\n",
    "        articles = []\n",
    "        url = \"https://api.nytimes.com/svc/search/v2/articlesearch.json\"\n",
    "        for page in range(100):\n",
    "            queries = {\n",
    "                'api-key': self.nyi_api_key,\n",
    "                'q': search_term,\n",
    "                'begin_date': begin_date,\n",
    "                'end_date': end_date,\n",
    "                'page': page\n",
    "            }\n",
    "            req_t = requests.get(url, params=queries)\n",
    "            data = json.loads(req_t.text)\n",
    "            if 'response' in data:\n",
    "                articles.extend(data['response']['docs'])\n",
    "        return articles\n",
    "\n",
    "    def get_text(self, articles):\n",
    "        for a in articles:\n",
    "            try:\n",
    "                article = Article(a['web_url'])\n",
    "                article.download()\n",
    "                article.parse()\n",
    "                article.nlp()\n",
    "                a['summary'] = article.summary\n",
    "                a['keywords_1'] = article.keywords\n",
    "                a['text'] = article.text\n",
    "            except:\n",
    "                pass\n"
   ]
  },
  {
   "cell_type": "code",
   "execution_count": 81,
   "metadata": {
    "scrolled": true,
    "slideshow": {
     "slide_type": "skip"
    }
   },
   "outputs": [],
   "source": [
    "import os\n",
    "\n",
    "import twitter\n",
    "from twitter import read_token_file, oauth_dance, write_token_file\n",
    "\n",
    "\n",
    "class TwitterMiner:\n",
    "    def __init__(self):\n",
    "        \"\"\n",
    "\n",
    "    def login(self):\n",
    "        APP_NAME = 'PPE'\n",
    "        CONSUMER_KEY = 'JK9vbq72nrL8BwBBUhOKASosL'\n",
    "        CONSUMER_SECRET = 'tQvz6zTa3nMbLMISPRMjFW6UDIpUBoDjMoFqg3zCI9SuoQrEHT'\n",
    "        TOKEN_FILE = 'out/twitter.oauth'\n",
    "\n",
    "        try:\n",
    "            (oauth_token, oauth_token_secret) = read_token_file(TOKEN_FILE)\n",
    "        except IOError as e:\n",
    "            (oauth_token, oauth_token_secret) = oauth_dance(APP_NAME, CONSUMER_KEY,\n",
    "                                                            CONSUMER_SECRET)\n",
    "\n",
    "            if not os.path.isdir('out'):\n",
    "                os.mkdir('out')\n",
    "\n",
    "            write_token_file(TOKEN_FILE, oauth_token, oauth_token_secret)\n",
    "\n",
    "        return twitter.Twitter(domain='api.twitter.com', api_version='1.1',\n",
    "                               auth=twitter.oauth.OAuth(oauth_token, oauth_token_secret,\n",
    "                                                        CONSUMER_KEY, CONSUMER_SECRET))\n"
   ]
  },
  {
   "cell_type": "code",
   "execution_count": 151,
   "metadata": {
    "scrolled": true,
    "slideshow": {
     "slide_type": "skip"
    }
   },
   "outputs": [],
   "source": [
    "import json\n",
    "import string\n",
    "from collections import defaultdict\n",
    "\n",
    "import nltk\n",
    "import numpy as np\n",
    "from nltk.corpus import stopwords\n",
    "from sklearn.feature_extraction.text import TfidfVectorizer\n",
    "from sklearn.metrics.pairwise import cosine_similarity\n",
    "from textblob import TextBlob\n",
    "from textblob.en.sentiments import NaiveBayesAnalyzer\n",
    "\n",
    "from miners.GoogleMiner import GoogleMiner\n",
    "from miners.NewsMiner import NewsMiner\n",
    "from miners.TwitterMiner import TwitterMiner\n",
    "\n",
    "\n",
    "def get_tweets():\n",
    "    return TwitterMiner().login().search.tweets(q=\"#trump\", count=100)\n",
    "\n",
    "\n",
    "def get_articles():\n",
    "    nm = NewsMiner()\n",
    "    articles = nm.get_articles(\"Donald Trump\", \"20170120\", \"20170830\")\n",
    "    nm.get_text(articles)\n",
    "    with open('out/nyt_articles.json', 'w') as fout:\n",
    "        json.dump(articles, fout)\n",
    "    print(articles)\n",
    "\n",
    "    # cnn = NewsMiner().sources['cnn']\n",
    "    # for i in range(10):\n",
    "    #     print (cnn.size())\n",
    "\n",
    "\n",
    "def get_tokens():\n",
    "    corpus = \"\"\n",
    "    with open(\"out/nyt_articles.json\") as data_file:\n",
    "        data = json.load(data_file)\n",
    "    for article in data:\n",
    "        corpus += article['text']\n",
    "    lowers = corpus.lower()\n",
    "    no_punctuation = lowers.translate(str.maketrans(\"\", \"\", string.punctuation))\n",
    "    toker = nltk.RegexpTokenizer(r'\\w+')\n",
    "    tokens = toker.tokenize(no_punctuation)\n",
    "    count = nltk.Counter(tokens)\n",
    "    print(count.most_common(10))\n",
    "    return tokens\n",
    "\n",
    "\n",
    "def remove_stop_words(tokens):\n",
    "    filtered = [w for w in tokens if not w in stopwords.words('english')]\n",
    "    count = nltk.Counter(filtered)\n",
    "    return filtered\n",
    "\n",
    "\n",
    "def stem_tokens(tokens):\n",
    "    stemmed = []\n",
    "    for item in tokens:\n",
    "        # stemmed.append(nltk.PorterStemmer().stem(item))\n",
    "        stemmed.append(nltk.WordNetLemmatizer().lemmatize(item))\n",
    "    count = nltk.Counter(stemmed)\n",
    "    # print(count.most_common(10))\n",
    "    return stemmed\n",
    "\n",
    "\n",
    "def get_article_token(portion):\n",
    "    article_token_dict = {}\n",
    "    toker = nltk.RegexpTokenizer(r'\\w+')\n",
    "    with open(\"out/nyt_articles.json\") as data_file:\n",
    "        data = json.load(data_file)\n",
    "    for article in data:\n",
    "        text = article[portion]\n",
    "        lowers = text.lower()\n",
    "        no_punctuation = lowers.translate(str.maketrans(\"\", \"\", string.punctuation))\n",
    "        tokens = toker.tokenize(no_punctuation)\n",
    "        article_token_dict[article['_id']] = \" \".join(tokens)\n",
    "    return article_token_dict\n",
    "\n",
    "\n",
    "def tokenize(text):\n",
    "    toker = nltk.RegexpTokenizer(r'\\w+')\n",
    "    lowers = text.lower()\n",
    "    no_punctuation = lowers.translate(str.maketrans(\"\", \"\", string.punctuation))\n",
    "    tokens = toker.tokenize(no_punctuation)\n",
    "    stems = stem_tokens(tokens)\n",
    "    return stems\n",
    "\n",
    "\n",
    "def get_promise_token():\n",
    "    promise_token_dict = {}\n",
    "    token = nltk.RegexpTokenizer(r'\\w+')\n",
    "    with open(\"out/promises2.json\") as data_file:\n",
    "        data = json.load(data_file)\n",
    "    for promise in data:\n",
    "        if promise['promise_description']:\n",
    "            text = promise['promise_description']\n",
    "        else:\n",
    "            text = promise['promise_title']\n",
    "        lowers = text.lower()\n",
    "        no_punctuation = lowers.translate(str.maketrans(\"\", \"\", string.punctuation))\n",
    "        tokens = token.tokenize(no_punctuation)\n",
    "        promise_token_dict[promise['promise_title']] = \" \".join(tokens)\n",
    "    return promise_token_dict\n",
    "\n",
    "\n",
    "def label_polarity(polarity):\n",
    "    if -1.0 <= polarity <= -0.5:\n",
    "        return \"Negative response\"\n",
    "    elif -0.5 < polarity <= 0:\n",
    "        return \"Slightly Negative response\"\n",
    "    elif 0 <= polarity < 0.5:\n",
    "        return \"Slightly Positive Response\"\n",
    "    else:\n",
    "        return \"Positive Response\"\n",
    "\n",
    "\n",
    "def sentiment_analysis(text, nb=False):\n",
    "    if nb:\n",
    "        sa = TextBlob(text, analyzer=NaiveBayesAnalyzer()).sentiment\n",
    "        return {\"class\": sa.classification, \"p_pos\": sa.p_pos, \"p_neg\": sa.p_neg}\n",
    "    sa = TextBlob(text).sentiment\n",
    "    sa_class = \"pos\" if sa.polarity > 0 else \"neg\"\n",
    "    return {\"class\": sa_class, \"polarity\": sa.polarity, \"subjectivity\": sa.subjectivity}\n",
    "\n",
    "\n",
    "def get_tfidf_matrix(articles, promises):\n",
    "    tfidf = TfidfVectorizer(tokenizer=tokenize, stop_words='english')\n",
    "    documents = []\n",
    "    documents.extend(list(promises.values()))\n",
    "    documents.extend(list(articles.values()))\n",
    "    return tfidf.fit_transform(documents)\n",
    "\n",
    "\n",
    "def get_article_promise_progress(articles, promises, tfidf_matrix, nb=False):\n",
    "    progress = []\n",
    "    for i, promise in enumerate(promises):\n",
    "        cosine_sim = cosine_similarity(tfidf_matrix[i: i + 1], tfidf_matrix)\n",
    "        single_array = np.array(cosine_sim[0])\n",
    "        article_array = single_array.argsort()[-6:][::-1]\n",
    "        matched_articles = [s for s in article_array if s > 1]\n",
    "        article_sentiment = []\n",
    "        for x in matched_articles:\n",
    "            article_sentiment.append({\n",
    "                \"text\": articles[list(articles.keys())[x - 2]],\n",
    "                \"sentiment\": sentiment_analysis(articles[list(articles.keys())[x - 2]], nb)\n",
    "            })\n",
    "        progress.append({\n",
    "            \"promise\": promise,\n",
    "            \"result\": article_sentiment})\n",
    "    return progress\n",
    "\n",
    "\n",
    "def get_google_results(num=10):\n",
    "    data = defaultdict(lambda: [])\n",
    "    gm = GoogleMiner()\n",
    "    for i, promise in enumerate(promises):\n",
    "        for s in gm.get_search_summary(promise, num):\n",
    "            text = s.text\n",
    "            tokens = tokenize(text)\n",
    "            data[promise].append(\" \".join(remove_stop_words(tokens)))\n",
    "    return data\n",
    "\n",
    "\n",
    "def get_google_promise_progress(google_sum, nb):\n",
    "    progress = []\n",
    "    for promise, g_sum in google_sum.items():\n",
    "        search_sentiment = []\n",
    "        for s in g_sum:\n",
    "            search_sentiment.append({\n",
    "                \"text\": s,\n",
    "                \"sentiment\": sentiment_analysis(s, nb)\n",
    "            })\n",
    "        progress.append({\n",
    "            \"promise\": promise,\n",
    "            \"result\": search_sentiment})\n",
    "    return progress"
   ]
  },
  {
   "cell_type": "markdown",
   "metadata": {
    "slideshow": {
     "slide_type": "slide"
    }
   },
   "source": [
    "# Political Promise Evaluation (PPE)\n",
    "#### NLP CS6120\n",
    "##### By: Bhanu Jain, Rohit Begani"
   ]
  },
  {
   "cell_type": "markdown",
   "metadata": {
    "slideshow": {
     "slide_type": "slide"
    }
   },
   "source": [
    "# Problem \n",
    "#### Track performance of political leaders through continous evaluation of promises made during election campaign"
   ]
  },
  {
   "cell_type": "markdown",
   "metadata": {
    "slideshow": {
     "slide_type": "subslide"
    }
   },
   "source": [
    "![](img/trumptracker.png)"
   ]
  },
  {
   "cell_type": "markdown",
   "metadata": {
    "slideshow": {
     "slide_type": "subslide"
    }
   },
   "source": [
    "![](img/politifact.png)"
   ]
  },
  {
   "cell_type": "markdown",
   "metadata": {
    "slideshow": {
     "slide_type": "slide"
    }
   },
   "source": [
    "\n",
    "# Data\n",
    "\n",
    "## Promises\n",
    "- Trump Tracker API \n",
    "\n",
    "## Promise Evaluation\n",
    "- Twiiter \n",
    "- NYT\n",
    "- Google Search"
   ]
  },
  {
   "cell_type": "markdown",
   "metadata": {
    "slideshow": {
     "slide_type": "subslide"
    }
   },
   "source": [
    "# Promises"
   ]
  },
  {
   "cell_type": "code",
   "execution_count": 57,
   "metadata": {
    "scrolled": true,
    "slideshow": {
     "slide_type": "fragment"
    }
   },
   "outputs": [
    {
     "data": {
      "text/plain": [
       "174"
      ]
     },
     "execution_count": 57,
     "metadata": {},
     "output_type": "execute_result"
    }
   ],
   "source": [
    "with open(\"out/promises.json\") as data_file:\n",
    "    p_data = json.load(data_file)\n",
    "\n",
    "len(p_data)"
   ]
  },
  {
   "cell_type": "code",
   "execution_count": 112,
   "metadata": {
    "scrolled": true,
    "slideshow": {
     "slide_type": "fragment"
    }
   },
   "outputs": [
    {
     "name": "stdout",
     "output_type": "stream",
     "text": [
      "{\n",
      "    \"promise_description\": \"\",\n",
      "    \"promise_tag\": [\n",
      "        \"Contract with the American Voter - 100 Day Plan\"\n",
      "    ],\n",
      "    \"promise_title\": \"Propose a Constitutional Amendment to impose term limits on all members of Congress\"\n",
      "}\n"
     ]
    }
   ],
   "source": [
    "print(json.dumps(p_data[0],indent=4, sort_keys=True))"
   ]
  },
  {
   "cell_type": "code",
   "execution_count": 55,
   "metadata": {
    "scrolled": true,
    "slideshow": {
     "slide_type": "subslide"
    }
   },
   "outputs": [
    {
     "name": "stdout",
     "output_type": "stream",
     "text": [
      "Repeal and Replace Obamacare Act:\n",
      "fully repeals obamacare and replaces it with health savings accounts the ability to purchase health insurance across state lines and lets states manage medicaid funds reforms will also include cutting the red tape at the fda there are over 4000 drugs awaiting approval and we especially want to speed the approval of lifesaving medications\n",
      "\n",
      "Build a wall. Trump's campaign began with a promise to build a wall across the United States' southern border and deport the country's 11 million undocumented immigrants.:\n",
      "build a wall trumps campaign began with a promise to build a wall across the united states southern border and deport the countrys 11 million undocumented immigrants\n",
      "\n"
     ]
    }
   ],
   "source": [
    "promises = get_promise_token()\n",
    "for k,v in promises.items():    \n",
    "    print(k+\":\\n\"+v+\"\\n\")"
   ]
  },
  {
   "cell_type": "markdown",
   "metadata": {
    "slideshow": {
     "slide_type": "subslide"
    }
   },
   "source": [
    "# Twitter"
   ]
  },
  {
   "cell_type": "code",
   "execution_count": 34,
   "metadata": {
    "scrolled": true,
    "slideshow": {
     "slide_type": "fragment"
    }
   },
   "outputs": [
    {
     "name": "stdout",
     "output_type": "stream",
     "text": [
      "Don't talk crap..\n",
      "\n",
      "At least stand in respectful solidarity with the majority Syrian population &amp; their demands. You… https://t.co/7RJZtkqNqW\n",
      "RT @RawStory: #RussiaRussiaRussia. #Trump has turned into #JanBrady. https://t.co/vDQQH3QPQ1\n",
      "RT @ToDropADime2: If your Husband or Wife Lied to you 5 times a day, would you stay with them?\n",
      "\n",
      "#Trump Lies 5.5 times a day......\n",
      "RT @haaretzcom: Trump Tweets anti-Semitic, Conspiracy Theorist Website Boasting About His Accomplishments\n",
      "https://t.co/grh6SN1PVx\n",
      "#Trump #A…\n"
     ]
    }
   ],
   "source": [
    "tweets = TwitterMiner().login().search.tweets(q=\"#trump\", count=5)\n",
    "for tweet in tweets['statuses']:\n",
    "    print(tweet['text'])"
   ]
  },
  {
   "cell_type": "markdown",
   "metadata": {
    "slideshow": {
     "slide_type": "subslide"
    }
   },
   "source": [
    "# NYT"
   ]
  },
  {
   "cell_type": "markdown",
   "metadata": {
    "slideshow": {
     "slide_type": "fragment"
    }
   },
   "source": [
    "### Articles"
   ]
  },
  {
   "cell_type": "code",
   "execution_count": 29,
   "metadata": {
    "scrolled": true,
    "slideshow": {
     "slide_type": "fragment"
    }
   },
   "outputs": [
    {
     "name": "stdout",
     "output_type": "stream",
     "text": [
      "\"In Damac, Mr. Trump\\u2019s company has found a like-minded partner, one that has emblazoned its name across skyscrapers.\\n\\nAdvertisement Continue reading the main story\\n\\nThe company\\u2019s founder, Hussain Sajwani, has a net worth estimated at around $4 billion, earning him the nickname \\u201cthe Donald of Dubai,\\u201d \"\n"
     ]
    }
   ],
   "source": [
    "nm = NewsMiner()\n",
    "articles = nm.get_articles(\"Donald Trump\", \"20170730\", \"20170830\")\n",
    "nm.get_text(articles)\n",
    "print(json.dumps(articles[0]['text'][:300],indent=4, sort_keys=True))"
   ]
  },
  {
   "cell_type": "markdown",
   "metadata": {
    "slideshow": {
     "slide_type": "subslide"
    }
   },
   "source": [
    "### Summary and Keywords"
   ]
  },
  {
   "cell_type": "code",
   "execution_count": 32,
   "metadata": {
    "scrolled": true,
    "slideshow": {
     "slide_type": "fragment"
    }
   },
   "outputs": [
    {
     "name": "stdout",
     "output_type": "stream",
     "text": [
      "\"He and his family spent New Year\\u2019s Eve with Mr. Trump at his Florida resort, and he attended the president\\u2019s inauguration.\\nIn an interview with The Times last year, Mr. McLoughlin, the Damac spokesman, said Mr. Trump had visited Damac Hills several times.\\nBuilding anything in Dubai invariably involves migrant workers, in transactions that often deviate from the law.\\nIn response, the government has made it permissible for migrant workers to change jobs while outlawing payments to recruitment firms.\\nAl Arif, the company supplying workers for the Trump course at Damac Hills, houses its workers in isolated apartment complexes in the desert.\"\n"
     ]
    }
   ],
   "source": [
    "print(json.dumps(articles[0]['summary'],indent=4, sort_keys=True))"
   ]
  },
  {
   "cell_type": "code",
   "execution_count": 33,
   "metadata": {
    "scrolled": true,
    "slideshow": {
     "slide_type": "fragment"
    }
   },
   "outputs": [
    {
     "name": "stdout",
     "output_type": "stream",
     "text": [
      "['wages', 'reading', 'dubai', 'course', 'golf', 'trump', 'workers', 'main', 'donald', 'hills', 'damac', 'late', 'mr', 'migrant']\n"
     ]
    }
   ],
   "source": [
    "print(articles[0]['keywords_1'])"
   ]
  },
  {
   "cell_type": "code",
   "execution_count": 73,
   "metadata": {
    "scrolled": true,
    "slideshow": {
     "slide_type": "subslide"
    }
   },
   "outputs": [
    {
     "name": "stdout",
     "output_type": "stream",
     "text": [
      "Total Articles Len = 130\n"
     ]
    }
   ],
   "source": [
    "articles = get_article_token()\n",
    "print(\"Total Articles Len = %s\" %(len(articles)))"
   ]
  },
  {
   "cell_type": "code",
   "execution_count": 77,
   "metadata": {
    "scrolled": true,
    "slideshow": {
     "slide_type": "fragment"
    }
   },
   "outputs": [
    {
     "name": "stdout",
     "output_type": "stream",
     "text": [
      "Key: 59934a3d95d0e0246f1ffdc7\n",
      "Text: the exodus began monday when merck s chief executive said he was resigning from mr trump s manufacturing council citing the president s tepid early statement on the violence in charlottesville where white nationalists staged a weekend march that turned violent on tuesday the leaders of a labor group\n"
     ]
    }
   ],
   "source": [
    "print(\"Key: %s\" %list(articles.keys())[0])\n",
    "print(\"Text: %s\" %articles[list(articles.keys())[0]][:300])"
   ]
  },
  {
   "cell_type": "markdown",
   "metadata": {
    "slideshow": {
     "slide_type": "subslide"
    }
   },
   "source": [
    "# Google Search Summary"
   ]
  },
  {
   "cell_type": "code",
   "execution_count": 102,
   "metadata": {
    "scrolled": true,
    "slideshow": {
     "slide_type": "fragment"
    }
   },
   "outputs": [
    {
     "name": "stdout",
     "output_type": "stream",
     "text": [
      "{\n",
      "    \"Repeal and Replace Obamacare Act\": [\n",
      "        \"nov 11 2016 get health insurance affordable care act without id obamacare replaces health saving account ability purchase health insurance across state line let state manage medicaid fund reform also include cutting red tape fda\"\n",
      "    ]\n",
      "}\n"
     ]
    }
   ],
   "source": [
    "gm = GoogleMiner()\n",
    "data = defaultdict(lambda: [])\n",
    "for s in gm.get_search_summary(promises[list(promises.keys())[0]], 1):\n",
    "    text = s.text\n",
    "    tokens = tokenize(text)\n",
    "    data[list(promises.keys())[0]].append(\" \".join(remove_stop_words(tokens)))\n",
    "print(json.dumps(dict(data),indent=4))"
   ]
  },
  {
   "cell_type": "markdown",
   "metadata": {
    "slideshow": {
     "slide_type": "subslide"
    }
   },
   "source": [
    "# UCI Bag of Words Data Set"
   ]
  },
  {
   "cell_type": "markdown",
   "metadata": {
    "slideshow": {
     "slide_type": "fragment"
    }
   },
   "source": [
    "### NYTimes news Articles\n",
    "\n",
    "- D=300000\n",
    "- W=102660\n",
    "- N=100,000,000 (approx)\n",
    "- Unlabelled\n",
    "- Tokenized, Stopwords Removes, Freq > 10\n",
    "- Will be used to Train\n"
   ]
  },
  {
   "cell_type": "markdown",
   "metadata": {
    "slideshow": {
     "slide_type": "slide"
    }
   },
   "source": [
    "# Methodology"
   ]
  },
  {
   "cell_type": "markdown",
   "metadata": {
    "slideshow": {
     "slide_type": "subslide"
    }
   },
   "source": [
    "# Article Text Sentiment \n",
    "\n",
    "## Document Matching \n",
    "- Bag of Words\n",
    "- Tf-Idf\n",
    "\n",
    "## Sentiment Analysis\n",
    "- Naive Bayes (NTLK - Pre trained)\n",
    "- Pattern (Lexical)\n",
    "- Naive Bayes (Custom Trained Classifier)"
   ]
  },
  {
   "cell_type": "markdown",
   "metadata": {
    "slideshow": {
     "slide_type": "subslide"
    }
   },
   "source": [
    "# Article Summary Sentiment \n",
    "\n",
    "## Document Matching \n",
    "- Bag of Words\n",
    "- Tf-Idf\n",
    "\n",
    "## Sentiment Analysis\n",
    "- Naive Bayes (NTLK - Pre trained)\n",
    "- Pattern (Lexical)\n",
    "- Naive Bayes (Custom Trained Classifier)"
   ]
  },
  {
   "cell_type": "markdown",
   "metadata": {
    "slideshow": {
     "slide_type": "subslide"
    }
   },
   "source": [
    "# Google Summary Sentiment\n",
    "\n",
    "## Search Summary \n",
    "- Summary for Top 100 Search results \n",
    "\n",
    "## Sentiment Analysis\n",
    "- Naive Bayes (NTLK - Pre trained)\n",
    "- Pattern (Lexical)\n",
    "- Naive Bayes (Custom Trained Classifier)"
   ]
  },
  {
   "cell_type": "markdown",
   "metadata": {
    "slideshow": {
     "slide_type": "subslide"
    }
   },
   "source": [
    "# Document Matching\n",
    "\n",
    "- Create Vocabulary from both Promises and Test Aricles\n",
    "- Compute tf-idf for all documents\n",
    "- Get top 5 machted articles for each promise"
   ]
  },
  {
   "cell_type": "markdown",
   "metadata": {
    "slideshow": {
     "slide_type": "subslide"
    }
   },
   "source": [
    "# Sentiment Analysis\n",
    "\n",
    "## Naive Bayes (NLTK)\n",
    "- Pretrained on Movie Reviews\n",
    "\n",
    "## Pattern\n",
    "- Lexicon of Adjectives\n",
    "- Scores for sentiment polarity for each Lexicon\n",
    "- Subjectivity for each Lexicon\n"
   ]
  },
  {
   "cell_type": "markdown",
   "metadata": {
    "slideshow": {
     "slide_type": "subslide"
    }
   },
   "source": [
    "# Trained Naive Bayes Classifier \n",
    "\n",
    "- Label UCI dataset with Vader Sentiment Analysis \n",
    "- Classify test articles retrieved from NYT\n",
    "\n",
    "## Vader\n",
    "- Vader is a rule-based model\n",
    "- Valence-Aware Sentiment Lexicon\n",
    "- Five huristics\n",
    "    - punctuation\n",
    "    - capitalization\n",
    "    - modifiers\n",
    "    - negation\n",
    "    - trigram\n",
    "    \n",
    "*Ref: http://comp.social.gatech.edu/papers/icwsm14.vader.hutto.pdf*"
   ]
  },
  {
   "cell_type": "markdown",
   "metadata": {
    "slideshow": {
     "slide_type": "slide"
    }
   },
   "source": [
    "# Experiments\n",
    "\n",
    "- Article Text with NB\n",
    "- Article Text with Pattern \n",
    "- Article Summary with NB\n",
    "- Article Summary with Pattern\n",
    "- Google Result Summary with NB\n",
    "- Google Result Summary with Pattern"
   ]
  },
  {
   "cell_type": "code",
   "execution_count": 412,
   "metadata": {
    "scrolled": true,
    "slideshow": {
     "slide_type": "skip"
    }
   },
   "outputs": [],
   "source": [
    "import matplotlib.pyplot as plt\n",
    "import matplotlib.patches as mpatches\n",
    "import matplotlib \n",
    "plt.figure(figsize=(12,8))\n",
    "matplotlib.rcParams.update({'font.size': 16})\n",
    "\n",
    "with open('out/results.json', 'r') as df:\n",
    "    res = json.load(df)\n",
    "\n",
    "def experiment_1():\n",
    "    colors = ['ro','bo']\n",
    "    polarity=[]\n",
    "    for r in res['article_text_pattern'][0]['result']:\n",
    "        polarity.append(r['sentiment']['polarity'])\n",
    "    plt.plot(range(1,len(polarity)+1), polarity, \"ro\",markersize=10,alpha=.75)\n",
    "    polarity=[]\n",
    "    for r in res['article_summary_pattern'][0]['result']:\n",
    "        polarity.append(r['sentiment']['polarity'])\n",
    "    plt.plot(range(1,len(polarity)+1), polarity, \"b^\",markersize=10)    \n",
    "    red_patch = mpatches.Patch(color='red', label='Text')\n",
    "    blue_patch = mpatches.Patch(color='blue', label='Summary')\n",
    "    plt.legend(handles=[red_patch,blue_patch])\n",
    "    plt.axis([0, 6, -1, 1])\n",
    "    plt.xlabel('Articles')\n",
    "    plt.ylabel('Polarity')\n",
    "    plt.title('Full Text Vs Summary with Pattern Sentiment Analysis')\n",
    "    plt.axhline(y=0)\n",
    "    plt.show()\n",
    "    \n",
    "def experiment_2():\n",
    "    polarity=[]\n",
    "    for r in res['article_text_nb'][0]['result']:\n",
    "        polarity.append(max(r['sentiment']['p_pos'],r['sentiment']['p_neg']))\n",
    "    plt.plot(range(1,len(polarity)+1), polarity, \"ro\",markersize=10,alpha=.75)\n",
    "    polarity=[]\n",
    "    for r in res['article_summary_nb'][0]['result']:\n",
    "        polarity.append(max(r['sentiment']['p_pos'],r['sentiment']['p_neg']))\n",
    "    plt.plot(range(1,len(polarity)+1), polarity, \"b^\",markersize=10,alpha=.75)    \n",
    "    red_patch = mpatches.Patch(color='red', label='Text')\n",
    "    blue_patch = mpatches.Patch(color='blue', label='Summary')\n",
    "    plt.legend(handles=[red_patch,blue_patch])\n",
    "    plt.axis([0, 6, -1, 2])\n",
    "    plt.xlabel('Articles')\n",
    "    plt.ylabel('Polarity')\n",
    "    plt.title('Full Text Vs Summary with NB Sentiment Analysis')\n",
    "    plt.axhline(y=0)\n",
    "    plt.show()"
   ]
  },
  {
   "cell_type": "code",
   "execution_count": 413,
   "metadata": {
    "scrolled": false,
    "slideshow": {
     "slide_type": "subslide"
    }
   },
   "outputs": [
    {
     "data": {
      "image/png": "[encoded data removed]",
      "text/plain": [
       "<matplotlib.figure.Figure at 0x7fddd96a1080>"
      ]
     },
     "metadata": {},
     "output_type": "display_data"
    }
   ],
   "source": [
    "experiment_1()"
   ]
  },
  {
   "cell_type": "markdown",
   "metadata": {
    "slideshow": {
     "slide_type": "subslide"
    }
   },
   "source": [
    "## Promise"
   ]
  },
  {
   "cell_type": "code",
   "execution_count": 293,
   "metadata": {
    "scrolled": true,
    "slideshow": {
     "slide_type": "fragment"
    }
   },
   "outputs": [
    {
     "data": {
      "text/plain": [
       "'Repeal and Replace Obamacare Act'"
      ]
     },
     "execution_count": 293,
     "metadata": {},
     "output_type": "execute_result"
    }
   ],
   "source": [
    " res['article_text_pattern'][0]['promise']"
   ]
  },
  {
   "cell_type": "markdown",
   "metadata": {
    "slideshow": {
     "slide_type": "fragment"
    }
   },
   "source": [
    "### Top Words for Article 3"
   ]
  },
  {
   "cell_type": "code",
   "execution_count": 317,
   "metadata": {
    "scrolled": true,
    "slideshow": {
     "slide_type": "fragment"
    }
   },
   "outputs": [
    {
     "name": "stdout",
     "output_type": "stream",
     "text": [
      "[('mr', 18), ('bill', 16), ('senator', 16), ('republican', 11), ('wa', 10), ('care', 9), ('house', 9), ('would', 8), ('white', 8), ('leader', 7)]\n"
     ]
    }
   ],
   "source": [
    "from collections import Counter\n",
    "print(Counter(remove_stop_words(tokenize(res['article_text_pattern'][0]['result'][2]['text']))).most_common(10))"
   ]
  },
  {
   "cell_type": "code",
   "execution_count": 341,
   "metadata": {
    "scrolled": true,
    "slideshow": {
     "slide_type": "fragment"
    }
   },
   "outputs": [
    {
     "name": "stdout",
     "output_type": "stream",
     "text": [
      "[('white', 4), ('house', 4), ('health', 3), ('care', 3), ('bill', 3), ('wa', 2), ('mr', 2), ('announced', 1), ('wanted', 1), ('republican', 1)]\n"
     ]
    }
   ],
   "source": [
    "print(Counter(remove_stop_words(tokenize(res['article_summary_pattern'][0]['result'][2]['text'])))\n",
    "      .most_common(10))"
   ]
  },
  {
   "cell_type": "markdown",
   "metadata": {
    "slideshow": {
     "slide_type": "subslide"
    }
   },
   "source": [
    "## ADJ Count for Article 3"
   ]
  },
  {
   "cell_type": "code",
   "execution_count": 342,
   "metadata": {
    "scrolled": true,
    "slideshow": {
     "slide_type": "fragment"
    }
   },
   "outputs": [
    {
     "name": "stdout",
     "output_type": "stream",
     "text": [
      "Total ADJ in Text : 154\n"
     ]
    },
    {
     "data": {
      "text/plain": [
       "[('republican', 11), ('white', 8), ('new', 5), ('senate', 4), ('main', 3)]"
      ]
     },
     "execution_count": 342,
     "metadata": {},
     "output_type": "execute_result"
    }
   ],
   "source": [
    "tags=nltk.pos_tag(remove_stop_words(tokenize(res['article_text_pattern'][0]['result'][2]['text'])))\n",
    "print (\"Total ADJ in Text : %s\" %Counter(tag for word,tag in tags)['JJ'])\n",
    "Counter([word for word,tag in tags if tag=='JJ']).most_common(5)"
   ]
  },
  {
   "cell_type": "code",
   "execution_count": 345,
   "metadata": {
    "scrolled": true,
    "slideshow": {
     "slide_type": "fragment"
    }
   },
   "outputs": [
    {
     "name": "stdout",
     "output_type": "stream",
     "text": [
      "Total ADJ in Summary : 19\n"
     ]
    },
    {
     "data": {
      "text/plain": [
       "[('white', 4), ('late', 1), ('republican', 1), ('come', 1), ('judged', 1)]"
      ]
     },
     "execution_count": 345,
     "metadata": {},
     "output_type": "execute_result"
    }
   ],
   "source": [
    "tags=nltk.pos_tag(remove_stop_words(tokenize(\n",
    "    res['article_summary_pattern'][0]['result'][2]['text'])))\n",
    "print (\"Total ADJ in Summary : %s\" %Counter(tag for word,tag in tags)['JJ'])\n",
    "Counter([word for word,tag in tags if tag=='JJ']).most_common(5)"
   ]
  },
  {
   "cell_type": "markdown",
   "metadata": {
    "slideshow": {
     "slide_type": "subslide"
    }
   },
   "source": [
    "## Subjectivity for Article 3"
   ]
  },
  {
   "cell_type": "code",
   "execution_count": 347,
   "metadata": {
    "slideshow": {
     "slide_type": "fragment"
    }
   },
   "outputs": [
    {
     "data": {
      "text/plain": [
       "0.3151515151515151"
      ]
     },
     "execution_count": 347,
     "metadata": {},
     "output_type": "execute_result"
    }
   ],
   "source": [
    "res['article_summary_pattern'][0]['result'][2]['sentiment']['subjectivity']"
   ]
  },
  {
   "cell_type": "code",
   "execution_count": 348,
   "metadata": {
    "slideshow": {
     "slide_type": "fragment"
    }
   },
   "outputs": [
    {
     "data": {
      "text/plain": [
       "0.3747686221824153"
      ]
     },
     "execution_count": 348,
     "metadata": {},
     "output_type": "execute_result"
    }
   ],
   "source": [
    "res['article_text_pattern'][0]['result'][2]['sentiment']['subjectivity']"
   ]
  },
  {
   "cell_type": "markdown",
   "metadata": {
    "slideshow": {
     "slide_type": "fragment"
    }
   },
   "source": [
    "### Lexicons ADJ in Pattern SA\n",
    "```\n",
    "<word form=\"angry\" wordnet_id=\"a-01173697\" pos=\"JJ\" sense=\"severely inflamed and painful\" polarity=\"-0.5\" subjectivity=\"1.0\" intensity=\"1.0\" confidence=\"0.9\" />\n",
    "    \n",
    "<word form=\"best\" wordnet_id=\"a-00067379\" pos=\"JJ\" sense=\"(comparative and superlative of 'well') wiser or more advantageous and hence advisable\" polarity=\"1.0\" subjectivity=\"0.3\" intensity=\"1.0\" confidence=\"0.9\" />\n",
    "\n",
    "<word form=\"better\" cornetto_synset_id=\"n_a-503853\" wordnet_id=\"a-01471260\" pos=\"JJ\" sense=\"more than half\" polarity=\"0.5\" subjectivity=\"0.5\" intensity=\"1.0\" confidence=\"0.9\" />\n",
    "\n",
    "```\n",
    "Ref: *https://github.com/clips/pattern/blob/master/pattern/text/en/en-sentiment.xml*"
   ]
  },
  {
   "cell_type": "code",
   "execution_count": 395,
   "metadata": {
    "slideshow": {
     "slide_type": "subslide"
    }
   },
   "outputs": [
    {
     "data": {
      "image/png": "[encoded data removed]",
      "text/plain": [
       "<matplotlib.figure.Figure at 0x7fddd3f8a2e8>"
      ]
     },
     "metadata": {},
     "output_type": "display_data"
    }
   ],
   "source": [
    "experiment_2()"
   ]
  },
  {
   "cell_type": "markdown",
   "metadata": {
    "slideshow": {
     "slide_type": "slide"
    }
   },
   "source": [
    "# Evaluation\n",
    "\n",
    "\n",
    "- For evaluation we used existing data online to check the accuracy of our implementation.\n",
    "- We matched our results with the status of the promises on TrumpTracker.\n",
    "\n",
    "\n",
    "| Methodology             \t| Repeal and Replace Obamacare \t| Build a Wall \t|\n",
    "|-------------------------\t|------------------------------\t|--------------\t|\n",
    "| Article Text Pattern    \t| Positive                     \t| Positive     \t|\n",
    "| Google Pattern          \t| Positive                     \t| Negative     \t|\n",
    "| Article Text NB         \t| Positive                     \t| Positive     \t|\n",
    "| Article Summary NB      \t| Positive                     \t| Positive     \t|\n",
    "| Google NB               \t| Positive                     \t| Positive     \t|\n",
    "| Article Summary Pattern \t| Positive                     \t| Negative     \t|\n",
    "| Actual        \t        | Negative                     \t| Positive  \t|"
   ]
  },
  {
   "cell_type": "markdown",
   "metadata": {
    "slideshow": {
     "slide_type": "slide"
    }
   },
   "source": [
    "# What's Next\n",
    "\n",
    "- Train a custom classifier on News Dataset with possitive sentiment from lexicons like `completed`, `done` etc. which corresponds to the progress.\n",
    "- Is subjectivity better for us? Classify subjective and objective sentences and experiment with Objectivity Analysis\n",
    "- Full Text or Summary?\n",
    "- Experiment with ABSA"
   ]
  },
  {
   "cell_type": "code",
   "execution_count": 407,
   "metadata": {
    "slideshow": {
     "slide_type": "skip"
    }
   },
   "outputs": [],
   "source": [
    "from nltk.classify import NaiveBayesClassifier\n",
    "from nltk.corpus import subjectivity\n",
    "from nltk.sentiment import SentimentAnalyzer\n",
    "from nltk.sentiment.util import *\n",
    "\n",
    "n_instances = 100\n",
    "subj_docs = [(sent, 'subj') for sent in subjectivity.sents(categories='subj')[:n_instances]]\n",
    "obj_docs = [(sent, 'obj') for sent in subjectivity.sents(categories='obj')[:n_instances]]"
   ]
  },
  {
   "cell_type": "code",
   "execution_count": 408,
   "metadata": {
    "slideshow": {
     "slide_type": "skip"
    }
   },
   "outputs": [
    {
     "name": "stdout",
     "output_type": "stream",
     "text": [
      "(['color', ',', 'musical', 'bounce', 'and', 'warm', 'seas', 'lapping', 'on', 'island', 'shores', '.', 'and', 'just', 'enough', 'science', 'to', 'send', 'you', 'home', 'thinking', '.'], 'subj')\n"
     ]
    }
   ],
   "source": [
    "print(subj_docs[1])"
   ]
  },
  {
   "cell_type": "code",
   "execution_count": 409,
   "metadata": {
    "slideshow": {
     "slide_type": "skip"
    }
   },
   "outputs": [
    {
     "name": "stdout",
     "output_type": "stream",
     "text": [
      "(['emerging', 'from', 'the', 'human', 'psyche', 'and', 'showing', 'characteristics', 'of', 'abstract', 'expressionism', ',', 'minimalism', 'and', 'russian', 'constructivism', ',', 'graffiti', 'removal', 'has', 'secured', 'its', 'place', 'in', 'the', 'history', 'of', 'modern', 'art', 'while', 'being', 'created', 'by', 'artists', 'who', 'are', 'unconscious', 'of', 'their', 'artistic', 'achievements', '.'], 'obj')\n"
     ]
    }
   ],
   "source": [
    "print(obj_docs[1])"
   ]
  }
 ],
 "metadata": {
  "celltoolbar": "Slideshow",
  "kernelspec": {
   "display_name": "ppe",
   "language": "python",
   "name": "ppe"
  },
  "language_info": {
   "codemirror_mode": {
    "name": "ipython",
    "version": 3
   },
   "file_extension": ".py",
   "mimetype": "text/x-python",
   "name": "python",
   "nbconvert_exporter": "python",
   "pygments_lexer": "ipython3",
   "version": "3.5.2"
  }
 },
 "nbformat": 4,
 "nbformat_minor": 2
}
